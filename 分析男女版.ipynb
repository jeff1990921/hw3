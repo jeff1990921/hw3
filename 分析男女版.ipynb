{
  "nbformat": 4,
  "nbformat_minor": 0,
  "metadata": {
    "colab": {
      "name": "分析男女版.ipynb",
      "provenance": [],
      "collapsed_sections": []
    },
    "kernelspec": {
      "name": "python3",
      "display_name": "Python 3"
    }
  },
  "cells": [
    {
      "cell_type": "markdown",
      "metadata": {
        "id": "yBmgg0KlhRPP",
        "colab_type": "text"
      },
      "source": [
        "爬取ptt男女版並爬取最近一篇爆文"
      ]
    },
    {
      "cell_type": "code",
      "metadata": {
        "id": "C6isGfHwg1QR",
        "colab_type": "code",
        "colab": {}
      },
      "source": [
        "def analyze():    \n",
        "    import urllib.request\n",
        "    import lxml.html\n",
        "    u = 'http://www.ptt.cc/bbs/Boy-Girl/'\n",
        "    url = f'{u}/search?q=recommend%3A100'\n",
        "    r = urllib.request.Request(url,headers={'User-Agent':''})\n",
        "    data=urllib.request.urlopen(r).read()\n",
        "    t=lxml.html.fromstring(data.decode('utf-8'))\n",
        "    posts = t.xpath('//*[@class=\"r-ent\"]')\n",
        "    title = posts[0][1][0].text\n",
        "    href = posts[0][1][0].attrib.get('href')\n",
        "\n",
        "    return [title,href]"
      ],
      "execution_count": 0,
      "outputs": []
    },
    {
      "cell_type": "code",
      "metadata": {
        "id": "AmA6nPPJhn9S",
        "colab_type": "code",
        "outputId": "734d60ac-8b67-4b71-8bd6-d2f4913a9730",
        "colab": {
          "base_uri": "https://localhost:8080/",
          "height": 34
        }
      },
      "source": [
        "analyze()"
      ],
      "execution_count": 0,
      "outputs": [
        {
          "output_type": "execute_result",
          "data": {
            "text/plain": [
              "['[心情] 被劈腿了只有我一個人在難過', '/bbs/Boy-Girl/M.1591491436.A.E69.html']"
            ]
          },
          "metadata": {
            "tags": []
          },
          "execution_count": 5
        }
      ]
    }
  ]
}